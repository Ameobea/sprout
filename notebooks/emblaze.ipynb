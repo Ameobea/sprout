{
 "cells": [
  {
   "cell_type": "code",
   "execution_count": 1,
   "id": "2ad1b309-1205-4e20-b54d-0f8912053d36",
   "metadata": {},
   "outputs": [],
   "source": [
    "import numpy as np\n",
    "import matplotlib.pyplot as plt\n",
    "import math\n",
    "from gensim.models import KeyedVectors\n",
    "import pandas as pd\n",
    "import emblaze\n",
    "from emblaze.utils import Field, ProjectionTechnique\n",
    "from collections import defaultdict, namedtuple"
   ]
  },
  {
   "cell_type": "code",
   "execution_count": 18,
   "id": "1b62b8ed-ed8c-461e-a26c-4e6f77efb85f",
   "metadata": {},
   "outputs": [],
   "source": [
    "# fname = '../data/embedding_ggvec_full_posonly_wextra_top40_10d_order2.w2v'\n",
    "# fname = '../data/pymde_10d_100n.w2v'\n",
    "fname = '../data/pymde_3d_40n.w2v'\n",
    "wv = KeyedVectors.load_word2vec_format(fname)"
   ]
  },
  {
   "cell_type": "code",
   "execution_count": 19,
   "id": "611e5744-2e75-46d3-8c8e-1e59927a6d61",
   "metadata": {},
   "outputs": [
    {
     "name": "stdout",
     "output_type": "stream",
     "text": [
      "anime count: 13647; wv len: 13647\n"
     ]
    }
   ],
   "source": [
    "all_animes_pd = pd.read_csv('../data/processed-metadata.csv')\n",
    "\n",
    "all_animes = []\n",
    "\n",
    "for anime in all_animes_pd.itertuples(index=False):\n",
    "    all_animes.append(anime)\n",
    "\n",
    "print(f\"anime count: {len(all_animes)}; wv len: {len(wv.index_to_key)}\")"
   ]
  },
  {
   "cell_type": "code",
   "execution_count": 20,
   "id": "142b71cd-ecb4-47c4-99e3-3fd4f246c71f",
   "metadata": {},
   "outputs": [],
   "source": [
    "def ix_to_ix(ix):\n",
    "    return int(wv.index_to_key[ix])\n",
    "\n",
    "def anime_by_ix(ix):\n",
    "    ix = ix_to_ix(ix)\n",
    "    return all_animes[ix]\n",
    "\n",
    "positions = wv.vectors\n",
    "names = [anime_by_ix(index).title for index in range(len(wv.vectors))]\n",
    "colors = [anime_by_ix(index).aired_from_year if int(anime_by_ix(index).aired_from_year) > 2000 else 2000 for index in range(len(wv.vectors))]\n",
    "sizes = [math.sqrt(anime_by_ix(index).rating_count) / 110. + 1. for index in range(len(wv.vectors))]\n",
    "\n",
    "emb = emblaze.Embedding({Field.POSITION: positions, Field.NAME: names, Field.COLOR: colors, Field.RADIUS: sizes}, n_neighbors=20,)\n",
    "emb.compute_neighbors(metric='cosine')"
   ]
  },
  {
   "cell_type": "code",
   "execution_count": 21,
   "id": "554e527a-5cd5-426c-8b2d-3e197a8ef2c4",
   "metadata": {},
   "outputs": [
    {
     "data": {
      "application/vnd.jupyter.widget-view+json": {
       "model_id": "996323d82c8b4a51b12a0cad909f7e75",
       "version_major": 2,
       "version_minor": 0
      },
      "text/plain": [
       "Viewer(colorScheme='plasma', data={'data': [{'_format': 'compressed', '_idtype': 'u2', '_length': 13647, 'ids'…"
      ]
     },
     "execution_count": 21,
     "metadata": {},
     "output_type": "execute_result"
    }
   ],
   "source": [
    "# variants = emblaze.EmbeddingSet([\n",
    "#     emb.project(method=ProjectionTechnique.TSNE, perplexity=33, learning_rate='auto', init='pca', early_exaggeration=1.2),\n",
    "#     emb.project(method=ProjectionTechnique.TSNE, perplexity=33, learning_rate='auto', init='pca', early_exaggeration=1.3),\n",
    "#     emb.project(method=ProjectionTechnique.TSNE, perplexity=33, learning_rate='auto', init='pca', early_exaggeration=1.4),\n",
    "#     emb.project(method=ProjectionTechnique.TSNE, perplexity=33, learning_rate='auto', init='pca', early_exaggeration=1.5),\n",
    "# ])\n",
    "variants = emblaze.EmbeddingSet([\n",
    "    # emb.project(method=ProjectionTechnique.TSNE, perplexity=22, learning_rate='auto', init='pca', early_exaggeration=1.3),\n",
    "    # emb.project(method=ProjectionTechnique.TSNE, perplexity=25, learning_rate='auto', init='pca', early_exaggeration=1.3),\n",
    "    # emb.project(method=ProjectionTechnique.TSNE, perplexity=30, learning_rate='auto', init='pca', early_exaggeration=1.3),\n",
    "    # emb.project(method=ProjectionTechnique.TSNE, perplexity=35, learning_rate='auto', init='pca', early_exaggeration=1.3),\n",
    "    emb.project(method=ProjectionTechnique.TSNE, perplexity=40, learning_rate='auto', init='pca', early_exaggeration=1.3),\n",
    "])\n",
    "thumbnails = emblaze.TextThumbnails(names)\n",
    "w = emblaze.Viewer(embeddings=variants, thumbnails=thumbnails)\n",
    "w"
   ]
  },
  {
   "cell_type": "code",
   "execution_count": 22,
   "id": "036fc72f-0bc5-4f7d-9254-d00cfaa5b5a3",
   "metadata": {},
   "outputs": [],
   "source": [
    "import json\n",
    "import math\n",
    "\n",
    "projection = emb.project(method=ProjectionTechnique.TSNE, perplexity=40, learning_rate='auto', init='pca', early_exaggeration=1.3)\n",
    "\n",
    "serialized = projection.to_json(compressed=False, save_neighbors=False)\n",
    "serialized['ids'] = [all_animes[ix_to_ix(i)].id for i in range(len(wv.index_to_key))]\n",
    "neighbors_json = emb.get_neighbors().to_json(compressed=False)\n",
    "neighbors_json['neighbors'] = {int(key):value for (key,value) in neighbors_json['neighbors'].items()}\n",
    "serialized['neighbors'] = neighbors_json\n",
    "with open('../data/projected_embedding_pymde_3d_40n.json', 'wt') as f:\n",
    "    f.write(json.dumps(serialized))"
   ]
  }
 ],
 "metadata": {
  "kernelspec": {
   "display_name": "Python 3 (ipykernel)",
   "language": "python",
   "name": "python3"
  },
  "language_info": {
   "codemirror_mode": {
    "name": "ipython",
    "version": 3
   },
   "file_extension": ".py",
   "mimetype": "text/x-python",
   "name": "python",
   "nbconvert_exporter": "python",
   "pygments_lexer": "ipython3",
   "version": "3.11.6"
  }
 },
 "nbformat": 4,
 "nbformat_minor": 5
}
