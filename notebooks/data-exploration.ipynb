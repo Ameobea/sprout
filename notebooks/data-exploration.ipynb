{
 "cells": [
  {
   "cell_type": "code",
   "execution_count": 2,
   "metadata": {},
   "outputs": [],
   "source": [
    "# Training a RNN to predict ratings for anime based on existing ratings\n",
    "\n",
    "import gc\n",
    "import pandas as pd\n",
    "import sqlite3"
   ]
  },
  {
   "cell_type": "code",
   "execution_count": 3,
   "metadata": {},
   "outputs": [
    {
     "name": "stdout",
     "output_type": "stream",
     "text": [
      "Remaining ratings: 31284030\n",
      "   username  anime_id  my_score\n",
      "0  karthiga        21         9\n",
      "1  karthiga        59         7\n",
      "2  karthiga        74         7\n",
      "3  karthiga       120         7\n",
      "4  karthiga       178         7\n"
     ]
    },
    {
     "data": {
      "text/plain": [
       "0"
      ]
     },
     "execution_count": 3,
     "metadata": {},
     "output_type": "execute_result"
    }
   ],
   "source": [
    "all_ratings = pd.read_csv('./work/data/animelists_cleaned.csv')\n",
    "\n",
    "# only retain the \"username\", \"anime_id\", and \"my_score\" columns\n",
    "ratings = all_ratings[['username', 'anime_id', 'my_score']]\n",
    "# only retain rows where \"my_score\" is not null and greater than or equal to 6\n",
    "ratings = ratings[ratings['my_score'].notnull()]\n",
    "# ratings = ratings[ratings['my_score'] >= 6]\n",
    "\n",
    "def scale_rating(rating: int) -> float:\n",
    "    if rating == 10:\n",
    "        return 10.1\n",
    "    if rating == 9:\n",
    "        return 9.1\n",
    "    if rating == 8:\n",
    "        return 6.5\n",
    "    if rating == 7:\n",
    "        return 3.3\n",
    "    if rating == 6:\n",
    "        return 1.2\n",
    "    raise ValueError(\"Invalid rating: {}\".format(rating))\n",
    "\n",
    "# scale ratings from score to our custom scale\n",
    "# ratings['my_score'] = ratings['my_score'].apply(scale_rating)\n",
    "\n",
    "print(\"Remaining ratings:\", ratings.shape[0])\n",
    "print(ratings.head())\n",
    "\n",
    "gc.collect()"
   ]
  },
  {
   "cell_type": "code",
   "execution_count": 4,
   "metadata": {},
   "outputs": [
    {
     "data": {
      "text/plain": [
       "<sqlite3.Cursor at 0x7ff347f61180>"
      ]
     },
     "execution_count": 4,
     "metadata": {},
     "output_type": "execute_result"
    }
   ],
   "source": [
    "# Load the ratings into a sqlite database\n",
    "conn = sqlite3.connect('./work/data/ratings.db')\n",
    "ratings.to_sql('ratings', conn, if_exists='replace', index=False)\n",
    "\n",
    "# Index by username and anime_id\n",
    "conn.execute(\"CREATE INDEX IF NOT EXISTS username_idx ON ratings (username)\")\n",
    "conn.execute(\"CREATE INDEX IF NOT EXISTS anime_id_idx ON ratings (anime_id)\")"
   ]
  },
  {
   "cell_type": "code",
   "execution_count": 5,
   "metadata": {},
   "outputs": [
    {
     "data": {
      "image/png": "[encoded data removed]",
      "text/plain": [
       "<Figure size 432x288 with 1 Axes>"
      ]
     },
     "metadata": {
      "needs_background": "light"
     },
     "output_type": "display_data"
    }
   ],
   "source": [
    "# plot distribution of # of ratings per user\n",
    "import matplotlib.pyplot as plt\n",
    "\n",
    "res = conn.execute(\"SELECT COUNT(*) FROM ratings GROUP BY username\")\n",
    "counts = [row[0] for row in res]\n",
    "plt.hist(counts, bins=3000)\n",
    "plt.show()"
   ]
  },
  {
   "cell_type": "code",
   "execution_count": 6,
   "metadata": {},
   "outputs": [
    {
     "data": {
      "text/plain": [
       "6668"
      ]
     },
     "execution_count": 6,
     "metadata": {},
     "output_type": "execute_result"
    }
   ],
   "source": [
    "all_animes = pd.read_csv('./work/data/anime_cleaned.csv')\n",
    "all_animes = all_animes[['anime_id', 'title']]\n",
    "\n",
    "all_animes.to_sql('animes', conn, if_exists='replace', index=False)"
   ]
  },
  {
   "cell_type": "code",
   "execution_count": 7,
   "metadata": {},
   "outputs": [
    {
     "name": "stdout",
     "output_type": "stream",
     "text": [
      "Nichijou ID: 10165\n",
      "Nichijou ratings distribution: [(1, 42), (2, 36), (3, 70), (4, 147), (5, 403), (6, 749), (7, 2040), (8, 4012), (9, 4176), (10, 3444)]\n"
     ]
    },
    {
     "data": {
      "text/plain": [
       "<BarContainer object of 10 artists>"
      ]
     },
     "execution_count": 7,
     "metadata": {},
     "output_type": "execute_result"
    },
    {
     "data": {
      "image/png": "[encoded data removed]",
      "text/plain": [
       "<Figure size 432x288 with 1 Axes>"
      ]
     },
     "metadata": {
      "needs_background": "light"
     },
     "output_type": "display_data"
    }
   ],
   "source": [
    "nichijou_id = conn.execute(\"SELECT anime_id FROM animes WHERE title = 'Nichijou'\").fetchone()[0]\n",
    "print(\"Nichijou ID:\", nichijou_id)\n",
    "nichijou_ratings_distribution = conn.execute(\"SELECT my_score, COUNT(*) FROM ratings WHERE anime_id = ? AND my_score > 0 GROUP BY my_score\", (nichijou_id,)).fetchall()\n",
    "print(\"Nichijou ratings distribution:\", nichijou_ratings_distribution)\n",
    "plt.bar([row[0] for row in nichijou_ratings_distribution], [row[1] for row in nichijou_ratings_distribution])\n"
   ]
  },
  {
   "cell_type": "code",
   "execution_count": 8,
   "metadata": {},
   "outputs": [
    {
     "name": "stdout",
     "output_type": "stream",
     "text": [
      "Kill Me Baby ID: 11079\n",
      "Kill Me Baby ratings distribution: [(1, 41), (2, 95), (3, 146), (4, 283), (5, 517), (6, 917), (7, 1269), (8, 899), (9, 405), (10, 255)]\n"
     ]
    },
    {
     "data": {
      "image/png": "[encoded data removed]",
      "text/plain": [
       "<Figure size 432x288 with 1 Axes>"
      ]
     },
     "metadata": {
      "needs_background": "light"
     },
     "output_type": "display_data"
    }
   ],
   "source": [
    "kill_me_baby_id = conn.execute(\"SELECT anime_id FROM animes WHERE title = 'Kill Me Baby'\").fetchone()[0]\n",
    "print(\"Kill Me Baby ID:\", kill_me_baby_id)\n",
    "kill_me_baby_ratings_distribution = conn.execute(\"SELECT my_score, COUNT(*) FROM ratings WHERE anime_id = ? AND my_score > 0 GROUP BY my_score\", (kill_me_baby_id,)).fetchall()\n",
    "print(\"Kill Me Baby ratings distribution:\", kill_me_baby_ratings_distribution)\n",
    "plt.bar([row[0] for row in kill_me_baby_ratings_distribution], [row[1] for row in kill_me_baby_ratings_distribution])\n",
    "plt.show()"
   ]
  },
  {
   "cell_type": "code",
   "execution_count": 3,
   "metadata": {},
   "outputs": [
    {
     "data": {
      "image/png": "[encoded data removed]",
      "text/plain": [
       "<Figure size 432x288 with 1 Axes>"
      ]
     },
     "metadata": {
      "needs_background": "light"
     },
     "output_type": "display_data"
    }
   ],
   "source": [
    "import pandas as pd\n",
    "import matplotlib.pyplot as plt\n",
    "\n",
    "all_animes = pd.read_csv('./work/data/processed-metadata.csv')\n",
    "\n",
    "# Plot distribution of # of ratings per anime\n",
    "rating_count = all_animes['rating_count']\n",
    "plt.hist(rating_count, bins=100)\n",
    "plt.show()"
   ]
  },
  {
   "cell_type": "code",
   "execution_count": 36,
   "metadata": {},
   "outputs": [
    {
     "data": {
      "text/plain": [
       "877"
      ]
     },
     "execution_count": 36,
     "metadata": {},
     "output_type": "execute_result"
    }
   ],
   "source": [
    "import math\n",
    "\n",
    "def get_extra_topn(rating_count):\n",
    "    return int(max(math.pow(rating_count, 0.46) * 0.4 - 10, 0))\n",
    "\n",
    "# get_extra_topn(5000)\n",
    "len(all_animes[all_animes['rating_count'] > 5000])"
   ]
  }
 ],
 "metadata": {
  "kernelspec": {
   "display_name": "Python 3 (ipykernel)",
   "language": "python",
   "name": "python3"
  }
 },
 "nbformat": 4,
 "nbformat_minor": 4
}
