{
 "cells": [
  {
   "cell_type": "code",
   "execution_count": 1,
   "metadata": {},
   "outputs": [
    {
     "name": "stderr",
     "output_type": "stream",
     "text": [
      "2022-05-07 21:07:29.549038: W tensorflow/stream_executor/platform/default/dso_loader.cc:64] Could not load dynamic library 'libcuda.so.1'; dlerror: libcuda.so.1: cannot open shared object file: No such file or directory\n",
      "2022-05-07 21:07:29.549060: W tensorflow/stream_executor/cuda/cuda_driver.cc:269] failed call to cuInit: UNKNOWN ERROR (303)\n",
      "2022-05-07 21:07:29.549074: I tensorflow/stream_executor/cuda/cuda_diagnostics.cc:156] kernel driver does not appear to be running on this host (devitra): /proc/driver/nvidia/version does not exist\n",
      "2022-05-07 21:07:29.549188: I tensorflow/core/platform/cpu_feature_guard.cc:142] This TensorFlow binary is optimized with oneAPI Deep Neural Network Library (oneDNN) to use the following CPU instructions in performance-critical operations:  SSE4.1 SSE4.2 AVX AVX2 FMA\n",
      "To enable them in other operations, rebuild TensorFlow with the appropriate compiler flags.\n"
     ]
    },
    {
     "name": "stdout",
     "output_type": "stream",
     "text": [
      "WARNING:tensorflow:No training configuration found in save file, so the model was *not* compiled. Compile it manually.\n"
     ]
    }
   ],
   "source": [
    "import tensorflow as tf\n",
    "\n",
    "# tensorflowjs_converter --input_format=tfjs_layers_model --output_format=keras_saved_model ./work/data/tfjs_models/model_4k/model_4k.json ./work/data/keras_models/model_4k/\n",
    "\n",
    "# load model from tfjs\n",
    "model = tf.keras.models.load_model('./work/data/keras_models/model_4k/')"
   ]
  },
  {
   "cell_type": "code",
   "execution_count": 57,
   "metadata": {},
   "outputs": [],
   "source": [
    "import requests\n",
    "\n",
    "def load_embedding(embedding_name: str, retained_size: int) -> list:\n",
    "    url = f'http://localhost:3080/embedding?embedding={embedding_name}'\n",
    "    return requests.get(url).json()['embedding'][:retained_size]\n",
    "\n",
    "embedding = load_embedding('pymde', 4000)\n",
    "\n",
    "def scale_rating(rating: int) -> float:\n",
    "    if rating > 5:\n",
    "        return 1.0\n",
    "    else:\n",
    "        return -1.0\n",
    "\n",
    "class AnimelistItem:\n",
    "    def __init__(self, anime_ix: int, rating: int):\n",
    "        self.anime_ix = anime_ix\n",
    "        self.rating = rating\n",
    "\n",
    "    def title(self):\n",
    "        return embedding[self.anime_ix]['metadata']['title']\n",
    "\n",
    "    def __str__(self):\n",
    "        return f'{self.title()}: {self.rating}'\n",
    "\n",
    "    def __repr__(self):\n",
    "        return self.__str__()\n",
    "\n",
    "def load_user_animelist(username: str) -> list:\n",
    "    url = 'http://localhost:3080/recommendation/training/trainingData'\n",
    "    payload = [username]\n",
    "    res = requests.post(url, json=payload).json()['trainingData'][0]\n",
    "    # print(url, res)\n",
    "    return [AnimelistItem(rating['animeIx'], rating['rating']) for rating in res if rating.get('rating') is not None and rating.get('animeIx') is not None and rating['animeIx'] < len(embedding)]\n",
    "\n",
    "def build_model_input(animelist: list) -> list:\n",
    "    input_arr = [0] * len(embedding)\n",
    "    for ranking in animelist:\n",
    "        if ranking.anime_ix < len(embedding):\n",
    "            input_arr[ranking.anime_ix] = scale_rating(ranking.rating)\n",
    "    input_tensor = tf.constant([input_arr], dtype=tf.float32)\n",
    "    return input_tensor"
   ]
  },
  {
   "cell_type": "code",
   "execution_count": 55,
   "metadata": {},
   "outputs": [],
   "source": [
    "def get_recommendations(username: str, num_recommendations: int) -> list:\n",
    "    animelist = [] if username is None else load_user_animelist(username)\n",
    "    # print(animelist)\n",
    "    input_tensor = build_model_input(animelist)\n",
    "    prediction = model(input_tensor).numpy()[0].tolist()\n",
    "    \n",
    "    # sort by prediction\n",
    "    sorted_predictions = sorted(enumerate(prediction), key=lambda x: x[1], reverse=True)\n",
    "    # filter out already watched anime\n",
    "    filtered_predictions = [x for x in sorted_predictions if x[0] not in [ranking.anime_ix for ranking in animelist]]\n",
    "    return [AnimelistItem(ix, pred) for ix, pred in filtered_predictions[:num_recommendations]]"
   ]
  },
  {
   "cell_type": "code",
   "execution_count": 68,
   "metadata": {},
   "outputs": [
    {
     "data": {
      "text/plain": [
       "[Nisemonogatari: 0.975067675113678,\n",
       " Owarimonogatari 2nd Season: 0.8810790181159973,\n",
       " Zoku Owarimonogatari: 0.7453194856643677,\n",
       " Koe no Katachi: 0.5092713832855225,\n",
       " New Game!: 0.4990721344947815,\n",
       " Kobayashi-san Chi no Maid Dragon: 0.4669526517391205,\n",
       " Cowboy Bebop: 0.40972402691841125,\n",
       " Mononoke Hime: 0.39753350615501404,\n",
       " FLCL: 0.3481951355934143,\n",
       " Lucky☆Star: Original na Visual to Animation: 0.3351402282714844,\n",
       " Mahou Shoujo Madoka★Magica: 0.32533931732177734,\n",
       " Howl no Ugoku Shiro: 0.3230133652687073,\n",
       " Tonari no Totoro: 0.3213270306587219,\n",
       " Non Non Biyori: 0.30446016788482666,\n",
       " K-On!: 0.29454854130744934,\n",
       " Yuru Camp△: 0.2840392589569092,\n",
       " One Punch Man: 0.28098371624946594,\n",
       " Neon Genesis Evangelion: 0.2763269245624542,\n",
       " Kotonoha no Niwa: 0.27423644065856934,\n",
       " Steins;Gate 0: 0.2643921375274658,\n",
       " Acchi Kocchi: Place=Princess: 0.26396670937538147,\n",
       " Made in Abyss: 0.26230040192604065,\n",
       " Paprika: 0.2542864680290222,\n",
       " Perfect Blue: 0.2527683675289154,\n",
       " K-On!!: 0.2513952851295471,\n",
       " Another: 0.25069254636764526,\n",
       " Azumanga Daioh: 0.24656040966510773,\n",
       " Blood-C: The Last Dark: 0.24526971578598022,\n",
       " Shinryaku! Ika Musume: 0.2370978444814682,\n",
       " Nichijou: Nichijou no 0-wa: 0.235104039311409,\n",
       " Toradora!: 0.22885145246982574,\n",
       " Gabriel DropOut Specials: 0.22790765762329102,\n",
       " Innocence: 0.2276322990655899,\n",
       " No Game No Life: 0.22587907314300537,\n",
       " Panty & Stocking with Garterbelt: 0.22514905035495758,\n",
       " Yuru Yuri♪♪: 0.22361800074577332,\n",
       " Neon Genesis Evangelion: The End of Evangelion: 0.2221611887216568,\n",
       " Katanagatari: 0.21867385506629944,\n",
       " Tenki no Ko: 0.21458032727241516,\n",
       " Little Witch Academia (TV): 0.21329161524772644,\n",
       " Yuru Yuri: 0.21222680807113647,\n",
       " Hidamari Sketch x 365: 0.21092742681503296,\n",
       " Tengen Toppa Gurren Lagann: 0.21019916236400604,\n",
       " Danshi Koukousei no Nichijou: 0.20580480992794037,\n",
       " Koukaku Kidoutai: Stand Alone Complex: 0.20480915904045105,\n",
       " Hidamari Sketch x ☆☆☆: 0.204049751162529,\n",
       " Steins;Gate Movie: Fuka Ryouiki no Déjà vu: 0.199751615524292,\n",
       " Watashi ga Motenai no wa Dou Kangaetemo Omaera ga Warui!: 0.19864612817764282,\n",
       " Poputepipikku: 0.19858866930007935,\n",
       " Sayonara Zetsubou Sensei: 0.19764606654644012]"
      ]
     },
     "execution_count": 68,
     "metadata": {},
     "output_type": "execute_result"
    }
   ],
   "source": [
    "get_recommendations('ameo___', 50)"
   ]
  }
 ],
 "metadata": {
  "kernelspec": {
   "display_name": "Python 3 (ipykernel)",
   "language": "python",
   "name": "python3"
  },
  "orig_nbformat": 4
 },
 "nbformat": 4,
 "nbformat_minor": 2
}
