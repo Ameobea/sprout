{
 "cells": [
  {
   "cell_type": "code",
   "execution_count": 2,
   "metadata": {},
   "outputs": [
    {
     "name": "stderr",
     "output_type": "stream",
     "text": [
      "2022-05-22 20:31:23.297521: W tensorflow/stream_executor/platform/default/dso_loader.cc:64] Could not load dynamic library 'libcuda.so.1'; dlerror: libcuda.so.1: cannot open shared object file: No such file or directory\n",
      "2022-05-22 20:31:23.297540: W tensorflow/stream_executor/cuda/cuda_driver.cc:269] failed call to cuInit: UNKNOWN ERROR (303)\n",
      "2022-05-22 20:31:23.297550: I tensorflow/stream_executor/cuda/cuda_diagnostics.cc:156] kernel driver does not appear to be running on this host (devitra): /proc/driver/nvidia/version does not exist\n",
      "2022-05-22 20:31:23.297662: I tensorflow/core/platform/cpu_feature_guard.cc:142] This TensorFlow binary is optimized with oneAPI Deep Neural Network Library (oneDNN) to use the following CPU instructions in performance-critical operations:  SSE4.1 SSE4.2 AVX AVX2 FMA\n",
      "To enable them in other operations, rebuild TensorFlow with the appropriate compiler flags.\n"
     ]
    },
    {
     "name": "stdout",
     "output_type": "stream",
     "text": [
      "WARNING:tensorflow:No training configuration found in save file, so the model was *not* compiled. Compile it manually.\n"
     ]
    }
   ],
   "source": [
    "import tensorflow as tf\n",
    "\n",
    "# tensorflowjs_converter --input_format=tfjs_layers_model --output_format=keras_saved_model ./work/data/tfjs_models/model_4k/model_4k.json ./work/data/keras_models/model_4k/\n",
    "\n",
    "# load model from tfjs\n",
    "model = tf.keras.models.load_model('./work/data/keras_models/model_6k/')"
   ]
  },
  {
   "cell_type": "code",
   "execution_count": 15,
   "metadata": {},
   "outputs": [],
   "source": [
    "import tensorflow_model_optimization as tfmot\n",
    "\n",
    "# Quantize the model\n",
    "model = tfmot.quantization.keras.quantize_model(model)"
   ]
  },
  {
   "cell_type": "code",
   "execution_count": 3,
   "metadata": {},
   "outputs": [
    {
     "name": "stdout",
     "output_type": "stream",
     "text": [
      "WARNING:tensorflow:Compiled the loaded model, but the compiled metrics have yet to be built. `model.compile_metrics` will be empty until you train or evaluate the model.\n"
     ]
    },
    {
     "name": "stderr",
     "output_type": "stream",
     "text": [
      "2022-05-22 20:31:25.199575: W tensorflow/python/util/util.cc:348] Sets are not currently considered sequences, but this may change in the future, so consider avoiding using them.\n",
      "WARNING:absl:Function `_wrapped_model` contains input name(s) dense_Dense1_input with unsupported characters which will be renamed to dense_dense1_input in the SavedModel.\n"
     ]
    },
    {
     "name": "stdout",
     "output_type": "stream",
     "text": [
      "INFO:tensorflow:Assets written to: /tmp/tmppjbn8a0r/assets\n"
     ]
    },
    {
     "name": "stderr",
     "output_type": "stream",
     "text": [
      "INFO:tensorflow:Assets written to: /tmp/tmppjbn8a0r/assets\n",
      "2022-05-22 20:31:26.499689: I tensorflow/core/grappler/devices.cc:66] Number of eligible GPUs (core count >= 8, compute capability >= 0.0): 0\n",
      "2022-05-22 20:31:26.499760: I tensorflow/core/grappler/clusters/single_machine.cc:357] Starting new session\n",
      "2022-05-22 20:31:26.512582: I tensorflow/core/grappler/optimizers/meta_optimizer.cc:1137] Optimization results for grappler item: graph_to_optimize\n",
      "  function_optimizer: function_optimizer did nothing. time = 0.007ms.\n",
      "  function_optimizer: function_optimizer did nothing. time = 0.001ms.\n",
      "\n",
      "2022-05-22 20:31:42.664033: W tensorflow/compiler/mlir/lite/python/tf_tfl_flatbuffer_helpers.cc:351] Ignored output_format.\n",
      "2022-05-22 20:31:42.664063: W tensorflow/compiler/mlir/lite/python/tf_tfl_flatbuffer_helpers.cc:354] Ignored drop_control_dependency.\n",
      "2022-05-22 20:31:44.765767: I tensorflow/compiler/mlir/tensorflow/utils/dump_mlir_util.cc:210] disabling MLIR crash reproducer, set env var `MLIR_CRASH_REPRODUCER_DIRECTORY` to enable.\n"
     ]
    }
   ],
   "source": [
    "converter = tf.lite.TFLiteConverter.from_keras_model(model)\n",
    "converter.optimizations = [tf.lite.Optimize.DEFAULT]\n",
    "tflite_quant_model = converter.convert()\n"
   ]
  },
  {
   "cell_type": "code",
   "execution_count": 6,
   "metadata": {},
   "outputs": [],
   "source": [
    "import os\n",
    "\n",
    "os.makedirs('./work/data/tflite_models/model_6k/', exist_ok=True)\n",
    "with open('./work/data/tflite_models/model_6k/model_6k.tflite', 'wb') as f:\n",
    "    f.write(tflite_quant_model)"
   ]
  },
  {
   "cell_type": "code",
   "execution_count": 11,
   "metadata": {},
   "outputs": [
    {
     "name": "stdout",
     "output_type": "stream",
     "text": [
      "[{'name': 'dense_Dense1_input', 'index': 0, 'shape': array([   1, 6000], dtype=int32), 'shape_signature': array([  -1, 6000], dtype=int32), 'dtype': <class 'numpy.float32'>, 'quantization': (0.0, 0), 'quantization_parameters': {'scales': array([], dtype=float32), 'zero_points': array([], dtype=int32), 'quantized_dimension': 0}, 'sparsity_parameters': {}}]\n",
      "[{'name': 'Identity', 'index': 16, 'shape': array([   1, 6000], dtype=int32), 'shape_signature': array([  -1, 6000], dtype=int32), 'dtype': <class 'numpy.float32'>, 'quantization': (0.0, 0), 'quantization_parameters': {'scales': array([], dtype=float32), 'zero_points': array([], dtype=int32), 'quantized_dimension': 0}, 'sparsity_parameters': {}}]\n",
      "[[0.78312075 0.97440666 0.9914669  ... 0.87091523 0.8483699  0.9211155 ]]\n"
     ]
    }
   ],
   "source": [
    "import numpy as np\n",
    "\n",
    "# load tflite model\n",
    "interpreter = tf.lite.Interpreter(model_path='./work/data/tflite_models/model_6k/model_6k.tflite')\n",
    "interpreter.allocate_tensors()\n",
    "input_details = interpreter.get_input_details()\n",
    "output_details = interpreter.get_output_details()\n",
    "print(input_details)\n",
    "print(output_details)\n",
    "\n",
    "input_shape = input_details[0]['shape']\n",
    "input_data = np.array(np.random.random_sample(input_shape), dtype=np.float32)\n",
    "interpreter.set_tensor(input_details[0]['index'], input_data)\n",
    "\n",
    "interpreter.invoke()\n",
    "\n",
    "# The function `get_tensor()` returns a copy of the tensor data.\n",
    "# Use `tensor()` in order to get a pointer to the tensor.\n",
    "output_data = interpreter.get_tensor(output_details[0]['index'])\n",
    "print(output_data)"
   ]
  },
  {
   "cell_type": "code",
   "execution_count": 16,
   "metadata": {},
   "outputs": [],
   "source": [
    "import requests\n",
    "\n",
    "def load_embedding(embedding_name: str, retained_size: int) -> list:\n",
    "    url = f'http://localhost:3080/embedding?embedding={embedding_name}'\n",
    "    return requests.get(url).json()['embedding'][:retained_size]\n",
    "\n",
    "embedding = load_embedding('pymde', 6000)\n",
    "\n",
    "def scale_rating(rating: int) -> float:\n",
    "    if rating > 5:\n",
    "        return 1.0\n",
    "    else:\n",
    "        return -1.0\n",
    "\n",
    "class AnimelistItem:\n",
    "    def __init__(self, anime_ix: int, rating: int):\n",
    "        self.anime_ix = anime_ix\n",
    "        self.rating = rating\n",
    "\n",
    "    def title(self):\n",
    "        return embedding[self.anime_ix]['metadata']['title']\n",
    "\n",
    "    def __str__(self):\n",
    "        return f'{self.title()}: {self.rating}'\n",
    "\n",
    "    def __repr__(self):\n",
    "        return self.__str__()\n",
    "\n",
    "def load_user_animelist(username: str) -> list:\n",
    "    url = 'http://localhost:3080/recommendation/training/trainingData'\n",
    "    payload = [username]\n",
    "    res = requests.post(url, json=payload).json()['trainingData'][0]\n",
    "    return [AnimelistItem(rating['animeIx'], rating['rating']) for rating in res if rating.get('rating') is not None and rating.get('animeIx') is not None and rating['animeIx'] < len(embedding)]\n",
    "\n",
    "def build_model_input(animelist: list) -> list:\n",
    "    input_arr = [0] * len(embedding)\n",
    "    for ranking in animelist:\n",
    "        if ranking.anime_ix < len(embedding):\n",
    "            input_arr[ranking.anime_ix] = scale_rating(ranking.rating)\n",
    "    input_tensor = tf.constant([input_arr], dtype=tf.float32)\n",
    "    return input_tensor"
   ]
  },
  {
   "cell_type": "code",
   "execution_count": 17,
   "metadata": {},
   "outputs": [],
   "source": [
    "def get_recommendations(username: str, num_recommendations: int) -> list:\n",
    "    animelist = [] if username is None else load_user_animelist(username)\n",
    "    input_tensor = build_model_input(animelist)\n",
    "    prediction = model(input_tensor).numpy()[0].tolist()\n",
    "    \n",
    "    # sort by prediction\n",
    "    sorted_predictions = sorted(enumerate(prediction), key=lambda x: x[1], reverse=True)\n",
    "    # filter out already watched anime\n",
    "    filtered_predictions = [x for x in sorted_predictions if x[0] not in [ranking.anime_ix for ranking in animelist]]\n",
    "    return [AnimelistItem(ix, pred) for ix, pred in filtered_predictions[:num_recommendations]]"
   ]
  },
  {
   "cell_type": "code",
   "execution_count": 18,
   "metadata": {},
   "outputs": [
    {
     "data": {
      "text/plain": [
       "[Death Note: 0.1402461677789688,\n",
       " Shingeki no Kyojin: 0.09384071081876755,\n",
       " Kimetsu no Yaiba: 0.09384071081876755,\n",
       " One Punch Man: 0.09384071081876755,\n",
       " Jujutsu Kaisen (TV): 0.09384071081876755,\n",
       " Koe no Katachi: 0.09384071081876755,\n",
       " Fullmetal Alchemist: Brotherhood: 0.09384071081876755,\n",
       " Hunter x Hunter (2011): 0.09384071081876755,\n",
       " Toradora!: 0.09384071081876755,\n",
       " Code Geass: Hangyaku no Lelouch: 0.09384071081876755,\n",
       " Neon Genesis Evangelion: 0.09384071081876755,\n",
       " Cowboy Bebop: 0.09384071081876755,\n",
       " Fullmetal Alchemist: 0.09384071081876755,\n",
       " Shingeki no Kyojin Season 2: 0.04702435061335564,\n",
       " Boku no Hero Academia: 0.04702435061335564,\n",
       " Shingeki no Kyojin Season 3: 0.04702435061335564,\n",
       " Shingeki no Kyojin Season 3 Part 2: 0.04702435061335564,\n",
       " Sword Art Online: 0.04702435061335564,\n",
       " Boku no Hero Academia 2nd Season: 0.04702435061335564,\n",
       " Shingeki no Kyojin: The Final Season: 0.04702435061335564,\n",
       " Tokyo Ghoul: 0.04702435061335564,\n",
       " Boku no Hero Academia 3rd Season: 0.04702435061335564,\n",
       " Kono Subarashii Sekai ni Shukufuku wo!: 0.04702435061335564,\n",
       " Kaguya-sama wa Kokurasetai: Tensai-tachi no Renai Zunousen: 0.04702435061335564,\n",
       " No Game No Life: 0.04702435061335564,\n",
       " Kimetsu no Yaiba Movie: Mugen Ressha-hen: 0.04702435061335564,\n",
       " Naruto: 0.04702435061335564,\n",
       " Seishun Buta Yarou wa Bunny Girl Senpai no Yume wo Minai: 0.04702435061335564,\n",
       " Yakusoku no Neverland: 0.04702435061335564,\n",
       " Boku dake ga Inai Machi: 0.04702435061335564,\n",
       " Boku no Hero Academia 4th Season: 0.04702435061335564,\n",
       " Mob Psycho 100: 0.04702435061335564,\n",
       " Tate no Yuusha no Nariagari: 0.04702435061335564,\n",
       " Shigatsu wa Kimi no Uso: 0.04702435061335564,\n",
       " Kono Subarashii Sekai ni Shukufuku wo! 2: 0.04702435061335564,\n",
       " One Punch Man 2nd Season: 0.04702435061335564,\n",
       " Kimetsu no Yaiba: Yuukaku-hen: 0.04702435061335564,\n",
       " Nanatsu no Taizai: 0.04702435061335564,\n",
       " Dr. Stone: 0.04702435061335564,\n",
       " Akame ga Kill!: 0.04702435061335564,\n",
       " Kaguya-sama wa Kokurasetai? Tensai-tachi no Renai Zunousen: 0.04702435061335564,\n",
       " Noragami: 0.04702435061335564,\n",
       " Naruto: Shippuuden: 0.04702435061335564,\n",
       " Ansatsu Kyoushitsu: 0.04702435061335564,\n",
       " Mushoku Tensei: Isekai Ittara Honki Dasu: 0.04702435061335564,\n",
       " Horimiya: 0.04702435061335564,\n",
       " Angel Beats!: 0.04702435061335564,\n",
       " Tensei shitara Slime Datta Ken: 0.04702435061335564,\n",
       " Violet Evergarden: 0.04702435061335564,\n",
       " Kiseijuu: Sei no Kakuritsu: 0.04702435061335564]"
      ]
     },
     "execution_count": 18,
     "metadata": {},
     "output_type": "execute_result"
    }
   ],
   "source": [
    "get_recommendations('ameo___', 50)"
   ]
  }
 ],
 "metadata": {
  "kernelspec": {
   "display_name": "Python 3 (ipykernel)",
   "language": "python",
   "name": "python3"
  },
  "language_info": {
   "codemirror_mode": {
    "name": "ipython",
    "version": 3
   },
   "file_extension": ".py",
   "mimetype": "text/x-python",
   "name": "python",
   "nbconvert_exporter": "python",
   "pygments_lexer": "ipython3",
   "version": "3.9.10"
  },
  "orig_nbformat": 4
 },
 "nbformat": 4,
 "nbformat_minor": 2
}
