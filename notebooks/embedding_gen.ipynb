{
 "cells": [
  {
   "cell_type": "code",
   "execution_count": 7,
   "metadata": {},
   "outputs": [
    {
     "name": "stdout",
     "output_type": "stream",
     "text": [
      "Hit:1 http://security.ubuntu.com/ubuntu focal-security InRelease\n",
      "Hit:2 http://archive.ubuntu.com/ubuntu focal InRelease\n",
      "Hit:3 http://archive.ubuntu.com/ubuntu focal-updates InRelease\n",
      "Hit:4 http://archive.ubuntu.com/ubuntu focal-backports InRelease\n",
      "Reading package lists... Done\n",
      "Building dependency tree       \n",
      "Reading state information... Done\n",
      "14 packages can be upgraded. Run 'apt list --upgradable' to see them.\n",
      "Reading package lists... Done\n",
      "Building dependency tree       \n",
      "Reading state information... Done\n",
      "build-essential is already the newest version (12.8ubuntu1.1).\n",
      "vim is already the newest version (2:8.1.2269-1ubuntu5.7).\n",
      "0 upgraded, 0 newly installed, 0 to remove and 14 not upgraded.\n",
      "Requirement already satisfied: networkx in /opt/conda/lib/python3.9/site-packages (2.7.1)\n",
      "Requirement already satisfied: node2vec in /opt/conda/lib/python3.9/site-packages (0.4.5)\n",
      "Requirement already satisfied: python-Levenshtein in /opt/conda/lib/python3.9/site-packages (0.12.2)\n",
      "Requirement already satisfied: nodevectors in /opt/conda/lib/python3.9/site-packages (0.1.23)\n",
      "Requirement already satisfied: emblaze in /opt/conda/lib/python3.9/site-packages (0.10.5)\n",
      "Requirement already satisfied: pymde in /opt/conda/lib/python3.9/site-packages (0.1.15)\n",
      "Requirement already satisfied: joblib<2.0.0,>=1.1.0 in /opt/conda/lib/python3.9/site-packages (from node2vec) (1.1.0)\n",
      "Requirement already satisfied: numpy<2.0.0,>=1.19.5 in /opt/conda/lib/python3.9/site-packages (from node2vec) (1.19.5)\n",
      "Requirement already satisfied: tqdm<5.0.0,>=4.55.1 in /opt/conda/lib/python3.9/site-packages (from node2vec) (4.64.0)\n",
      "Requirement already satisfied: gensim<5.0.0,>=4.1.2 in /opt/conda/lib/python3.9/site-packages (from node2vec) (4.2.0)\n",
      "Requirement already satisfied: setuptools in /opt/conda/lib/python3.9/site-packages (from python-Levenshtein) (59.8.0)\n",
      "Requirement already satisfied: numba in /opt/conda/lib/python3.9/site-packages (from nodevectors) (0.55.1)\n",
      "Requirement already satisfied: pandas>=1.0 in /opt/conda/lib/python3.9/site-packages (from nodevectors) (1.4.2)\n",
      "Requirement already satisfied: scikit-learn in /opt/conda/lib/python3.9/site-packages (from nodevectors) (1.0.2)\n",
      "Requirement already satisfied: scipy in /opt/conda/lib/python3.9/site-packages (from nodevectors) (1.8.0)\n",
      "Requirement already satisfied: csrgraph in /opt/conda/lib/python3.9/site-packages (from nodevectors) (0.1.28)\n",
      "Requirement already satisfied: affine>=2.3.0 in /opt/conda/lib/python3.9/site-packages (from emblaze) (2.3.1)\n",
      "Requirement already satisfied: pillow>=8.2.0 in /opt/conda/lib/python3.9/site-packages (from emblaze) (9.1.0)\n",
      "Requirement already satisfied: colormath>=3.0.0 in /opt/conda/lib/python3.9/site-packages (from emblaze) (3.0.0)\n",
      "Requirement already satisfied: ipywidgets>=7.0.0 in /opt/conda/lib/python3.9/site-packages (from emblaze) (7.7.0)\n",
      "Requirement already satisfied: flask-socketio>=5.1.1 in /opt/conda/lib/python3.9/site-packages (from emblaze) (5.1.2)\n",
      "Requirement already satisfied: redis>=4.1.0 in /opt/conda/lib/python3.9/site-packages (from emblaze) (4.2.2)\n",
      "Requirement already satisfied: umap-learn>=0.5.1 in /opt/conda/lib/python3.9/site-packages (from emblaze) (0.5.3)\n",
      "Requirement already satisfied: flask>=1.1.2 in /opt/conda/lib/python3.9/site-packages (from emblaze) (2.1.2)\n",
      "Requirement already satisfied: eventlet>=0.33.0 in /opt/conda/lib/python3.9/site-packages (from emblaze) (0.33.0)\n",
      "Requirement already satisfied: redis-server>=6.0.9 in /opt/conda/lib/python3.9/site-packages (from emblaze) (6.0.9)\n",
      "Requirement already satisfied: requests in /opt/conda/lib/python3.9/site-packages (from pymde) (2.27.1)\n",
      "Requirement already satisfied: matplotlib in /opt/conda/lib/python3.9/site-packages (from pymde) (3.5.1)\n",
      "Requirement already satisfied: torchvision>=0.8.2 in /opt/conda/lib/python3.9/site-packages (from pymde) (0.12.0)\n",
      "Requirement already satisfied: torch>=1.7.1 in /opt/conda/lib/python3.9/site-packages (from pymde) (1.11.0)\n",
      "Requirement already satisfied: pynndescent in /opt/conda/lib/python3.9/site-packages (from pymde) (0.5.6)\n",
      "Requirement already satisfied: greenlet>=0.3 in /opt/conda/lib/python3.9/site-packages (from eventlet>=0.33.0->emblaze) (1.1.2)\n",
      "Requirement already satisfied: dnspython>=1.15.0 in /opt/conda/lib/python3.9/site-packages (from eventlet>=0.33.0->emblaze) (2.2.1)\n",
      "Requirement already satisfied: six>=1.10.0 in /opt/conda/lib/python3.9/site-packages (from eventlet>=0.33.0->emblaze) (1.15.0)\n",
      "Requirement already satisfied: itsdangerous>=2.0 in /opt/conda/lib/python3.9/site-packages (from flask>=1.1.2->emblaze) (2.1.2)\n",
      "Requirement already satisfied: Werkzeug>=2.0 in /opt/conda/lib/python3.9/site-packages (from flask>=1.1.2->emblaze) (2.1.1)\n",
      "Requirement already satisfied: Jinja2>=3.0 in /opt/conda/lib/python3.9/site-packages (from flask>=1.1.2->emblaze) (3.1.1)\n",
      "Requirement already satisfied: click>=8.0 in /opt/conda/lib/python3.9/site-packages (from flask>=1.1.2->emblaze) (8.1.2)\n",
      "Requirement already satisfied: importlib-metadata>=3.6.0 in /opt/conda/lib/python3.9/site-packages (from flask>=1.1.2->emblaze) (4.11.3)\n",
      "Requirement already satisfied: python-socketio>=5.0.2 in /opt/conda/lib/python3.9/site-packages (from flask-socketio>=5.1.1->emblaze) (5.6.0)\n",
      "Requirement already satisfied: smart-open>=1.8.1 in /opt/conda/lib/python3.9/site-packages (from gensim<5.0.0,>=4.1.2->node2vec) (6.0.0)\n",
      "Requirement already satisfied: jupyterlab-widgets>=1.0.0 in /opt/conda/lib/python3.9/site-packages (from ipywidgets>=7.0.0->emblaze) (1.1.0)\n",
      "Requirement already satisfied: ipython>=4.0.0 in /opt/conda/lib/python3.9/site-packages (from ipywidgets>=7.0.0->emblaze) (8.2.0)\n",
      "Requirement already satisfied: widgetsnbextension~=3.6.0 in /opt/conda/lib/python3.9/site-packages (from ipywidgets>=7.0.0->emblaze) (3.6.0)\n",
      "Requirement already satisfied: ipykernel>=4.5.1 in /opt/conda/lib/python3.9/site-packages (from ipywidgets>=7.0.0->emblaze) (6.12.0)\n",
      "Requirement already satisfied: ipython-genutils~=0.2.0 in /opt/conda/lib/python3.9/site-packages (from ipywidgets>=7.0.0->emblaze) (0.2.0)\n",
      "Requirement already satisfied: nbformat>=4.2.0 in /opt/conda/lib/python3.9/site-packages (from ipywidgets>=7.0.0->emblaze) (5.3.0)\n",
      "Requirement already satisfied: traitlets>=4.3.1 in /opt/conda/lib/python3.9/site-packages (from ipywidgets>=7.0.0->emblaze) (5.1.1)\n",
      "Requirement already satisfied: llvmlite<0.39,>=0.38.0rc1 in /opt/conda/lib/python3.9/site-packages (from numba->nodevectors) (0.38.0)\n",
      "Requirement already satisfied: python-dateutil>=2.8.1 in /opt/conda/lib/python3.9/site-packages (from pandas>=1.0->nodevectors) (2.8.2)\n",
      "Requirement already satisfied: pytz>=2020.1 in /opt/conda/lib/python3.9/site-packages (from pandas>=1.0->nodevectors) (2022.1)\n",
      "Requirement already satisfied: packaging>=20.4 in /opt/conda/lib/python3.9/site-packages (from redis>=4.1.0->emblaze) (21.3)\n",
      "Requirement already satisfied: deprecated>=1.2.3 in /opt/conda/lib/python3.9/site-packages (from redis>=4.1.0->emblaze) (1.2.13)\n",
      "Requirement already satisfied: async-timeout>=4.0.2 in /opt/conda/lib/python3.9/site-packages (from redis>=4.1.0->emblaze) (4.0.2)\n",
      "Requirement already satisfied: threadpoolctl>=2.0.0 in /opt/conda/lib/python3.9/site-packages (from scikit-learn->nodevectors) (3.1.0)\n",
      "Requirement already satisfied: typing-extensions in /opt/conda/lib/python3.9/site-packages (from torch>=1.7.1->pymde) (3.7.4.3)\n",
      "Requirement already satisfied: pyparsing>=2.2.1 in /opt/conda/lib/python3.9/site-packages (from matplotlib->pymde) (3.0.7)\n",
      "Requirement already satisfied: fonttools>=4.22.0 in /opt/conda/lib/python3.9/site-packages (from matplotlib->pymde) (4.31.2)\n",
      "Requirement already satisfied: cycler>=0.10 in /opt/conda/lib/python3.9/site-packages (from matplotlib->pymde) (0.11.0)\n",
      "Requirement already satisfied: kiwisolver>=1.0.1 in /opt/conda/lib/python3.9/site-packages (from matplotlib->pymde) (1.4.2)\n",
      "Requirement already satisfied: charset-normalizer~=2.0.0 in /opt/conda/lib/python3.9/site-packages (from requests->pymde) (2.0.12)\n",
      "Requirement already satisfied: certifi>=2017.4.17 in /opt/conda/lib/python3.9/site-packages (from requests->pymde) (2021.10.8)\n",
      "Requirement already satisfied: urllib3<1.27,>=1.21.1 in /opt/conda/lib/python3.9/site-packages (from requests->pymde) (1.26.9)\n",
      "Requirement already satisfied: idna<4,>=2.5 in /opt/conda/lib/python3.9/site-packages (from requests->pymde) (3.3)\n",
      "Requirement already satisfied: wrapt<2,>=1.10 in /opt/conda/lib/python3.9/site-packages (from deprecated>=1.2.3->redis>=4.1.0->emblaze) (1.12.1)\n",
      "Requirement already satisfied: zipp>=0.5 in /opt/conda/lib/python3.9/site-packages (from importlib-metadata>=3.6.0->flask>=1.1.2->emblaze) (3.8.0)\n",
      "Requirement already satisfied: psutil in /opt/conda/lib/python3.9/site-packages (from ipykernel>=4.5.1->ipywidgets>=7.0.0->emblaze) (5.9.0)\n",
      "Requirement already satisfied: debugpy>=1.0 in /opt/conda/lib/python3.9/site-packages (from ipykernel>=4.5.1->ipywidgets>=7.0.0->emblaze) (1.5.1)\n",
      "Requirement already satisfied: jupyter-client>=6.1.12 in /opt/conda/lib/python3.9/site-packages (from ipykernel>=4.5.1->ipywidgets>=7.0.0->emblaze) (7.2.1)\n",
      "Requirement already satisfied: tornado>=6.1 in /opt/conda/lib/python3.9/site-packages (from ipykernel>=4.5.1->ipywidgets>=7.0.0->emblaze) (6.1)\n",
      "Requirement already satisfied: matplotlib-inline>=0.1 in /opt/conda/lib/python3.9/site-packages (from ipykernel>=4.5.1->ipywidgets>=7.0.0->emblaze) (0.1.3)\n",
      "Requirement already satisfied: nest-asyncio in /opt/conda/lib/python3.9/site-packages (from ipykernel>=4.5.1->ipywidgets>=7.0.0->emblaze) (1.5.5)\n",
      "Requirement already satisfied: pygments>=2.4.0 in /opt/conda/lib/python3.9/site-packages (from ipython>=4.0.0->ipywidgets>=7.0.0->emblaze) (2.11.2)\n",
      "Requirement already satisfied: pickleshare in /opt/conda/lib/python3.9/site-packages (from ipython>=4.0.0->ipywidgets>=7.0.0->emblaze) (0.7.5)\n",
      "Requirement already satisfied: backcall in /opt/conda/lib/python3.9/site-packages (from ipython>=4.0.0->ipywidgets>=7.0.0->emblaze) (0.2.0)\n",
      "Requirement already satisfied: prompt-toolkit!=3.0.0,!=3.0.1,<3.1.0,>=2.0.0 in /opt/conda/lib/python3.9/site-packages (from ipython>=4.0.0->ipywidgets>=7.0.0->emblaze) (3.0.29)\n",
      "Requirement already satisfied: decorator in /opt/conda/lib/python3.9/site-packages (from ipython>=4.0.0->ipywidgets>=7.0.0->emblaze) (5.1.1)\n",
      "Requirement already satisfied: jedi>=0.16 in /opt/conda/lib/python3.9/site-packages (from ipython>=4.0.0->ipywidgets>=7.0.0->emblaze) (0.18.1)\n",
      "Requirement already satisfied: pexpect>4.3 in /opt/conda/lib/python3.9/site-packages (from ipython>=4.0.0->ipywidgets>=7.0.0->emblaze) (4.8.0)\n",
      "Requirement already satisfied: stack-data in /opt/conda/lib/python3.9/site-packages (from ipython>=4.0.0->ipywidgets>=7.0.0->emblaze) (0.2.0)\n",
      "Requirement already satisfied: MarkupSafe>=2.0 in /opt/conda/lib/python3.9/site-packages (from Jinja2>=3.0->flask>=1.1.2->emblaze) (2.1.1)\n",
      "Requirement already satisfied: jsonschema>=2.6 in /opt/conda/lib/python3.9/site-packages (from nbformat>=4.2.0->ipywidgets>=7.0.0->emblaze) (4.4.0)\n",
      "Requirement already satisfied: fastjsonschema in /opt/conda/lib/python3.9/site-packages (from nbformat>=4.2.0->ipywidgets>=7.0.0->emblaze) (2.15.3)\n",
      "Requirement already satisfied: jupyter-core in /opt/conda/lib/python3.9/site-packages (from nbformat>=4.2.0->ipywidgets>=7.0.0->emblaze) (4.9.2)\n",
      "Requirement already satisfied: python-engineio>=4.3.0 in /opt/conda/lib/python3.9/site-packages (from python-socketio>=5.0.2->flask-socketio>=5.1.1->emblaze) (4.3.2)\n",
      "Requirement already satisfied: bidict>=0.21.0 in /opt/conda/lib/python3.9/site-packages (from python-socketio>=5.0.2->flask-socketio>=5.1.1->emblaze) (0.22.0)\n",
      "Requirement already satisfied: notebook>=4.4.1 in /opt/conda/lib/python3.9/site-packages (from widgetsnbextension~=3.6.0->ipywidgets>=7.0.0->emblaze) (6.4.10)\n",
      "Requirement already satisfied: parso<0.9.0,>=0.8.0 in /opt/conda/lib/python3.9/site-packages (from jedi>=0.16->ipython>=4.0.0->ipywidgets>=7.0.0->emblaze) (0.8.3)\n",
      "Requirement already satisfied: attrs>=17.4.0 in /opt/conda/lib/python3.9/site-packages (from jsonschema>=2.6->nbformat>=4.2.0->ipywidgets>=7.0.0->emblaze) (21.4.0)\n",
      "Requirement already satisfied: pyrsistent!=0.17.0,!=0.17.1,!=0.17.2,>=0.14.0 in /opt/conda/lib/python3.9/site-packages (from jsonschema>=2.6->nbformat>=4.2.0->ipywidgets>=7.0.0->emblaze) (0.18.1)\n",
      "Requirement already satisfied: entrypoints in /opt/conda/lib/python3.9/site-packages (from jupyter-client>=6.1.12->ipykernel>=4.5.1->ipywidgets>=7.0.0->emblaze) (0.4)\n",
      "Requirement already satisfied: pyzmq>=22.3 in /opt/conda/lib/python3.9/site-packages (from jupyter-client>=6.1.12->ipykernel>=4.5.1->ipywidgets>=7.0.0->emblaze) (22.3.0)\n",
      "Requirement already satisfied: argon2-cffi in /opt/conda/lib/python3.9/site-packages (from notebook>=4.4.1->widgetsnbextension~=3.6.0->ipywidgets>=7.0.0->emblaze) (21.3.0)\n",
      "Requirement already satisfied: nbconvert>=5 in /opt/conda/lib/python3.9/site-packages (from notebook>=4.4.1->widgetsnbextension~=3.6.0->ipywidgets>=7.0.0->emblaze) (6.4.5)\n",
      "Requirement already satisfied: prometheus-client in /opt/conda/lib/python3.9/site-packages (from notebook>=4.4.1->widgetsnbextension~=3.6.0->ipywidgets>=7.0.0->emblaze) (0.13.1)\n",
      "Requirement already satisfied: terminado>=0.8.3 in /opt/conda/lib/python3.9/site-packages (from notebook>=4.4.1->widgetsnbextension~=3.6.0->ipywidgets>=7.0.0->emblaze) (0.13.3)\n",
      "Requirement already satisfied: Send2Trash>=1.8.0 in /opt/conda/lib/python3.9/site-packages (from notebook>=4.4.1->widgetsnbextension~=3.6.0->ipywidgets>=7.0.0->emblaze) (1.8.0)\n",
      "Requirement already satisfied: ptyprocess>=0.5 in /opt/conda/lib/python3.9/site-packages (from pexpect>4.3->ipython>=4.0.0->ipywidgets>=7.0.0->emblaze) (0.7.0)\n",
      "Requirement already satisfied: wcwidth in /opt/conda/lib/python3.9/site-packages (from prompt-toolkit!=3.0.0,!=3.0.1,<3.1.0,>=2.0.0->ipython>=4.0.0->ipywidgets>=7.0.0->emblaze) (0.2.5)\n",
      "Requirement already satisfied: pure-eval in /opt/conda/lib/python3.9/site-packages (from stack-data->ipython>=4.0.0->ipywidgets>=7.0.0->emblaze) (0.2.2)\n",
      "Requirement already satisfied: asttokens in /opt/conda/lib/python3.9/site-packages (from stack-data->ipython>=4.0.0->ipywidgets>=7.0.0->emblaze) (2.0.5)\n",
      "Requirement already satisfied: executing in /opt/conda/lib/python3.9/site-packages (from stack-data->ipython>=4.0.0->ipywidgets>=7.0.0->emblaze) (0.8.3)\n",
      "Requirement already satisfied: bleach in /opt/conda/lib/python3.9/site-packages (from nbconvert>=5->notebook>=4.4.1->widgetsnbextension~=3.6.0->ipywidgets>=7.0.0->emblaze) (4.1.0)\n",
      "Requirement already satisfied: defusedxml in /opt/conda/lib/python3.9/site-packages (from nbconvert>=5->notebook>=4.4.1->widgetsnbextension~=3.6.0->ipywidgets>=7.0.0->emblaze) (0.7.1)\n",
      "Requirement already satisfied: pandocfilters>=1.4.1 in /opt/conda/lib/python3.9/site-packages (from nbconvert>=5->notebook>=4.4.1->widgetsnbextension~=3.6.0->ipywidgets>=7.0.0->emblaze) (1.5.0)\n",
      "Requirement already satisfied: beautifulsoup4 in /opt/conda/lib/python3.9/site-packages (from nbconvert>=5->notebook>=4.4.1->widgetsnbextension~=3.6.0->ipywidgets>=7.0.0->emblaze) (4.10.0)\n",
      "Requirement already satisfied: jupyterlab-pygments in /opt/conda/lib/python3.9/site-packages (from nbconvert>=5->notebook>=4.4.1->widgetsnbextension~=3.6.0->ipywidgets>=7.0.0->emblaze) (0.1.2)\n",
      "Requirement already satisfied: mistune<2,>=0.8.1 in /opt/conda/lib/python3.9/site-packages (from nbconvert>=5->notebook>=4.4.1->widgetsnbextension~=3.6.0->ipywidgets>=7.0.0->emblaze) (0.8.4)\n",
      "Requirement already satisfied: nbclient<0.6.0,>=0.5.0 in /opt/conda/lib/python3.9/site-packages (from nbconvert>=5->notebook>=4.4.1->widgetsnbextension~=3.6.0->ipywidgets>=7.0.0->emblaze) (0.5.13)\n",
      "Requirement already satisfied: testpath in /opt/conda/lib/python3.9/site-packages (from nbconvert>=5->notebook>=4.4.1->widgetsnbextension~=3.6.0->ipywidgets>=7.0.0->emblaze) (0.6.0)\n",
      "Requirement already satisfied: argon2-cffi-bindings in /opt/conda/lib/python3.9/site-packages (from argon2-cffi->notebook>=4.4.1->widgetsnbextension~=3.6.0->ipywidgets>=7.0.0->emblaze) (21.2.0)\n",
      "Requirement already satisfied: cffi>=1.0.1 in /opt/conda/lib/python3.9/site-packages (from argon2-cffi-bindings->argon2-cffi->notebook>=4.4.1->widgetsnbextension~=3.6.0->ipywidgets>=7.0.0->emblaze) (1.15.0)\n",
      "Requirement already satisfied: soupsieve>1.2 in /opt/conda/lib/python3.9/site-packages (from beautifulsoup4->nbconvert>=5->notebook>=4.4.1->widgetsnbextension~=3.6.0->ipywidgets>=7.0.0->emblaze) (2.3.1)\n",
      "Requirement already satisfied: webencodings in /opt/conda/lib/python3.9/site-packages (from bleach->nbconvert>=5->notebook>=4.4.1->widgetsnbextension~=3.6.0->ipywidgets>=7.0.0->emblaze) (0.5.1)\n",
      "Requirement already satisfied: pycparser in /opt/conda/lib/python3.9/site-packages (from cffi>=1.0.1->argon2-cffi-bindings->argon2-cffi->notebook>=4.4.1->widgetsnbextension~=3.6.0->ipywidgets>=7.0.0->emblaze) (2.21)\n"
     ]
    }
   ],
   "source": [
    "!sudo apt update\n",
    "!sudo apt -y install build-essential vim\n",
    "!pip3 install networkx node2vec python-Levenshtein nodevectors emblaze pymde\n",
    "\n",
    "import pandas as pd\n",
    "import json\n",
    "import networkx as nx\n",
    "from node2vec import Node2Vec\n",
    "from gensim.models import KeyedVectors\n",
    "import numpy as np\n",
    "from collections import defaultdict"
   ]
  },
  {
   "cell_type": "code",
   "execution_count": 3,
   "metadata": {},
   "outputs": [],
   "source": [
    "all_animes_df = pd.read_csv('./work/data/processed-metadata.csv')\n",
    "\n",
    "all_animes = []\n",
    "anime_title_by_id = {}\n",
    "anime_id_by_title = {}\n",
    "anime_ix_by_id = {}\n",
    "anime_by_id = {}\n",
    "\n",
    "i = 0\n",
    "for anime in all_animes_df.itertuples(index=False):\n",
    "    all_animes.append(anime)\n",
    "    anime_title_by_id[anime.id] = anime.title\n",
    "    anime_id_by_title[anime.title] = anime.id\n",
    "    anime_ix_by_id[anime.id] = i\n",
    "    anime_by_id[anime.id] = anime\n",
    "    i += 1"
   ]
  },
  {
   "cell_type": "code",
   "execution_count": 70,
   "metadata": {},
   "outputs": [],
   "source": [
    "all_ratings = pd.read_csv('./work/data/collected_animelists.csv')"
   ]
  },
  {
   "cell_type": "code",
   "execution_count": 74,
   "metadata": {},
   "outputs": [
    {
     "name": "stdout",
     "output_type": "stream",
     "text": [
      "Remaining ratings: 66596570\n",
      "   username  anime_id  my_score  anime_ix\n",
      "2     Jakly     28339       0.5      6181\n",
      "7     Jakly     13971       0.5      4903\n",
      "8     Jakly     32998       3.3      7093\n",
      "9     Jakly     33964       3.3      7371\n",
      "10    Jakly      6094       3.3      3310\n"
     ]
    },
    {
     "data": {
      "text/plain": [
       "74"
      ]
     },
     "execution_count": 74,
     "metadata": {},
     "output_type": "execute_result"
    }
   ],
   "source": [
    "# only retain the \"username\", \"anime_id\", and \"my_score\" columns\n",
    "ratings = all_ratings[['username', 'anime_id', 'my_score']]\n",
    "# only retain rows where \"my_score\" is not null and greater than or equal to 6\n",
    "ratings = ratings[ratings['my_score'].notnull()]\n",
    "ratings = ratings[ratings['my_score'] > 0]\n",
    "ratings = ratings[ratings['anime_id'].isin(anime_title_by_id.keys())]\n",
    "ratings['anime_ix'] = ratings['anime_id'].apply(lambda x: anime_ix_by_id[x])\n",
    "\n",
    "def scale_rating(rating: int) -> float:\n",
    "    if rating == 10:\n",
    "        return 10.1\n",
    "    if rating == 9:\n",
    "        return 9.1\n",
    "    if rating == 8:\n",
    "        return 6.5\n",
    "    if rating == 7:\n",
    "        return 3.3\n",
    "    if rating == 6:\n",
    "        return 0.5\n",
    "    if rating == 5:\n",
    "        return -1.5\n",
    "    if rating == 4:\n",
    "        return -4.5\n",
    "    if rating == 3:\n",
    "        return -7.5\n",
    "    if rating == 2:\n",
    "        return -10.5\n",
    "    if rating == 1:\n",
    "        return -13.5\n",
    "    raise ValueError(\"Invalid rating: {}\".format(rating))\n",
    "\n",
    "# scale ratings from score to our custom scale\n",
    "ratings['my_score'] = ratings['my_score'].apply(scale_rating)\n",
    "ratings = ratings[ratings['my_score'] > 0]\n",
    "\n",
    "print(\"Remaining ratings:\", ratings.shape[0])\n",
    "print(ratings.head())\n",
    "\n",
    "# collect python garbage\n",
    "import gc\n",
    "gc.collect()"
   ]
  },
  {
   "cell_type": "code",
   "execution_count": 131,
   "metadata": {},
   "outputs": [
    {
     "name": "stdout",
     "output_type": "stream",
     "text": [
      "Retained 66596570 ratings out of 66596570 total\n"
     ]
    }
   ],
   "source": [
    "# ratings_subset = ratings.sample(n=5000000)\n",
    "# ratings_subset = ratings[:5000000]\n",
    "ratings_subset = ratings\n",
    "\n",
    "# Retain only ratings of anime that have >=100 ratings\n",
    "ratings_subset = ratings_subset[ratings['anime_id'].isin(anime_title_by_id.keys())]\n",
    "print(f\"Retained {ratings_subset.shape[0]} ratings out of {ratings.shape[0]} total\")"
   ]
  },
  {
   "cell_type": "code",
   "execution_count": 132,
   "metadata": {},
   "outputs": [
    {
     "name": "stdout",
     "output_type": "stream",
     "text": [
      "Processed 0 rows\n",
      "Processed 1000000 rows\n",
      "Processed 2000000 rows\n",
      "Processed 3000000 rows\n",
      "Processed 4000000 rows\n",
      "Processed 5000000 rows\n",
      "Processed 6000000 rows\n",
      "Processed 7000000 rows\n",
      "Processed 8000000 rows\n",
      "Processed 9000000 rows\n",
      "Processed 10000000 rows\n",
      "Processed 11000000 rows\n",
      "Processed 12000000 rows\n",
      "Processed 13000000 rows\n",
      "Processed 14000000 rows\n",
      "Processed 15000000 rows\n",
      "Processed 16000000 rows\n",
      "Processed 17000000 rows\n",
      "Processed 18000000 rows\n",
      "Processed 19000000 rows\n",
      "Processed 20000000 rows\n",
      "Processed 21000000 rows\n",
      "Processed 22000000 rows\n",
      "Processed 23000000 rows\n",
      "Processed 24000000 rows\n",
      "Processed 25000000 rows\n",
      "Processed 26000000 rows\n",
      "Processed 27000000 rows\n",
      "Processed 28000000 rows\n",
      "Processed 29000000 rows\n",
      "Processed 30000000 rows\n",
      "Processed 31000000 rows\n",
      "Processed 32000000 rows\n",
      "Processed 33000000 rows\n",
      "Processed 34000000 rows\n",
      "Processed 35000000 rows\n",
      "Processed 36000000 rows\n",
      "Processed 37000000 rows\n",
      "Processed 38000000 rows\n",
      "Processed 39000000 rows\n",
      "Processed 40000000 rows\n",
      "Processed 41000000 rows\n",
      "Processed 42000000 rows\n",
      "Processed 43000000 rows\n",
      "Processed 44000000 rows\n",
      "Processed 45000000 rows\n",
      "Processed 46000000 rows\n",
      "Processed 47000000 rows\n",
      "Processed 48000000 rows\n",
      "Processed 49000000 rows\n",
      "Processed 50000000 rows\n",
      "Processed 51000000 rows\n",
      "Processed 52000000 rows\n",
      "Processed 53000000 rows\n",
      "Processed 54000000 rows\n",
      "Processed 55000000 rows\n",
      "Processed 56000000 rows\n",
      "Processed 57000000 rows\n",
      "Processed 58000000 rows\n",
      "Processed 59000000 rows\n",
      "Processed 60000000 rows\n",
      "Processed 61000000 rows\n",
      "Processed 62000000 rows\n",
      "Processed 63000000 rows\n",
      "Processed 64000000 rows\n",
      "Processed 65000000 rows\n",
      "Processed 66000000 rows\n"
     ]
    }
   ],
   "source": [
    "from collections import defaultdict\n",
    "\n",
    "ratings_by_username = defaultdict(list)\n",
    "\n",
    "i = 0\n",
    "for row in ratings_subset.itertuples():\n",
    "    if i % 1000000 == 0:\n",
    "        print(f\"Processed {i} rows\")\n",
    "    i += 1\n",
    "\n",
    "    rating = row.my_score\n",
    "    if rating < 0:\n",
    "        continue\n",
    "    anime_ix = anime_ix_by_id[row.anime_id]\n",
    "    ratings_by_username[row.username].append((anime_ix, rating))"
   ]
  },
  {
   "cell_type": "code",
   "execution_count": 133,
   "metadata": {},
   "outputs": [
    {
     "name": "stdout",
     "output_type": "stream",
     "text": [
      "Users to process: 409923\n",
      "Processed 8000 users\n",
      "Processed 16000 users\n",
      "Processed 24000 users\n",
      "Processed 32000 users\n",
      "Processed 40000 users\n",
      "Processed 48000 users\n",
      "Processed 56000 users\n",
      "Processed 64000 users\n",
      "Processed 72000 users\n",
      "Processed 80000 users\n",
      "Processed 88000 users\n",
      "Processed 96000 users\n",
      "Processed 104000 users\n",
      "Processed 112000 users\n",
      "Processed 120000 users\n",
      "Processed 128000 users\n",
      "Processed 136000 users\n",
      "Processed 144000 users\n",
      "Processed 152000 users\n",
      "Processed 160000 users\n",
      "Processed 168000 users\n",
      "Processed 176000 users\n",
      "Processed 184000 users\n",
      "Processed 192000 users\n",
      "Processed 200000 users\n",
      "Processed 208000 users\n",
      "Processed 216000 users\n",
      "Processed 224000 users\n",
      "Processed 232000 users\n",
      "Processed 240000 users\n",
      "Processed 248000 users\n",
      "Processed 256000 users\n",
      "Processed 264000 users\n",
      "Processed 272000 users\n",
      "Processed 280000 users\n",
      "Processed 288000 users\n",
      "Processed 296000 users\n",
      "Processed 304000 users\n",
      "Processed 312000 users\n",
      "Processed 320000 users\n",
      "Processed 328000 users\n",
      "Processed 336000 users\n",
      "Processed 344000 users\n",
      "Processed 352000 users\n",
      "Processed 360000 users\n",
      "Processed 368000 users\n",
      "Processed 376000 users\n",
      "Processed 384000 users\n",
      "Processed 392000 users\n",
      "Processed 400000 users\n",
      "Processed 408000 users\n"
     ]
    }
   ],
   "source": [
    "import numpy as np\n",
    "\n",
    "cooccurrence_matrix = np.zeros((len(anime_title_by_id), len(anime_title_by_id)))\n",
    "\n",
    "i = 0\n",
    "print(f\"Users to process: {len(ratings_by_username)}\")\n",
    "\n",
    "for username, ratings_for_user in ratings_by_username.items():\n",
    "    i += 1\n",
    "    if i % 8000 == 0:\n",
    "        print(f\"Processed {i} users\")\n",
    "\n",
    "    for anime_ix_0, rating_0 in ratings_for_user:\n",
    "        for anime_ix_1, rating_1 in ratings_for_user:\n",
    "            if anime_ix_0 == anime_ix_1:\n",
    "                continue\n",
    "\n",
    "            cooccurrence_matrix[anime_ix_0, anime_ix_1] += rating_0 * rating_1"
   ]
  },
  {
   "cell_type": "code",
   "execution_count": 135,
   "metadata": {},
   "outputs": [],
   "source": [
    "# Save the co-occurrence matrix to compressed binary numpy file\n",
    "np.savez_compressed('./work/data/cooccurrence_matrix.npz', cooccurrence_matrix)"
   ]
  },
  {
   "cell_type": "code",
   "execution_count": 5,
   "metadata": {},
   "outputs": [],
   "source": [
    "cooccurrence_matrix = np.load('./work/data/cooccurrence_matrix.npz')['arr_0']"
   ]
  },
  {
   "cell_type": "code",
   "execution_count": 8,
   "metadata": {},
   "outputs": [
    {
     "data": {
      "text/plain": [
       "[(40.0, 'Kill Me Baby: Butsuzou Kegatte Nise Halloween'),\n",
       " (1.224744871391589, 'Lucky☆Star'),\n",
       " (1.118033988749895, 'Nichijou'),\n",
       " (1.118033988749895, 'Acchi Kocchi'),\n",
       " (1.0, 'Yuyushiki'),\n",
       " (0.8660254037844386, 'Danshi Koukousei no Nichijou'),\n",
       " (0.8660254037844386, 'Aho Girl'),\n",
       " (0.8660254037844386, 'Akuma no Riddle'),\n",
       " (0.7071067811865476, 'Chitose Get You!!'),\n",
       " (0.7071067811865476, 'Hetalia Axis Powers'),\n",
       " (0.7071067811865476, 'Gugure! Kokkuri-san')]"
      ]
     },
     "execution_count": 8,
     "metadata": {},
     "output_type": "execute_result"
    }
   ],
   "source": [
    "import json\n",
    "import math\n",
    "\n",
    "def score_num_recommendations(num_recommendations):\n",
    "    return math.sqrt(num_recommendations) / 2.\n",
    "\n",
    "def parse_extra(item):\n",
    "    related = json.loads(item.related_anime) \n",
    "    related = [(r['node']['id'], 0.2 if r['relation_type'] == 'character' else 40) for r in related]\n",
    "    recommended = [(r['node']['id'], score_num_recommendations(r['num_recommendations'])) for r in json.loads(item.recommendations)]\n",
    "    return [(anime_ix_by_id.get(id), score) for id, score in related + recommended if anime_ix_by_id.get(id) is not None]\n",
    "\n",
    "related_by_anime_ix = defaultdict(lambda: defaultdict(float))\n",
    "\n",
    "for item in all_animes:\n",
    "    anime_ix = anime_ix_by_id.get(item.id)\n",
    "    if anime_ix is None:\n",
    "        continue\n",
    "    related_for_item = parse_extra(item)\n",
    "    entry = related_by_anime_ix[anime_ix]\n",
    "    for ix, weight in related_for_item:\n",
    "        entry[ix] += weight\n",
    "        \n",
    "kill_me_baby_id = 11079\n",
    "kill_me_baby_ix = anime_ix_by_id[kill_me_baby_id]\n",
    "[(score, all_animes[ix].title) for ix, score in related_by_anime_ix[kill_me_baby_ix].items()]"
   ]
  },
  {
   "cell_type": "code",
   "execution_count": 9,
   "metadata": {},
   "outputs": [],
   "source": [
    "cooccurrence_matrix_wextra = cooccurrence_matrix.copy()\n",
    "\n",
    "for anime_0_ix in range(len(cooccurrence_matrix)):\n",
    "    related_for_anime0 = related_by_anime_ix[anime_0_ix]\n",
    "    max_weight = cooccurrence_matrix[anime_0_ix].max()\n",
    "\n",
    "    for ix, weight in related_for_anime0.items():\n",
    "        if ix == anime_0_ix:\n",
    "            continue\n",
    "        cooccurrence_matrix_wextra[anime_0_ix, ix] += weight * max_weight\n",
    "\n",
    "np.save('./work/data/cooccurrence_matrix_wextra.npy', cooccurrence_matrix_wextra)"
   ]
  },
  {
   "cell_type": "code",
   "execution_count": 138,
   "metadata": {},
   "outputs": [
    {
     "name": "stdout",
     "output_type": "stream",
     "text": [
      "Edges: 423247\n"
     ]
    }
   ],
   "source": [
    "graph = nx.Graph()\n",
    "\n",
    "def get_topn(weights, topn):\n",
    "    return sorted(enumerate(weights), key=lambda x: x[1], reverse=True)[:topn]\n",
    "\n",
    "topn = 40\n",
    "\n",
    "def get_extra_topn(rating_count):\n",
    "    return int(max(math.pow(rating_count, 0.46) * 0.4 - 10, 0))\n",
    "\n",
    "for anime_0_ix in range(cooccurrence_matrix.shape[0]):\n",
    "    row = cooccurrence_matrix[anime_0_ix]\n",
    "    top_edges = get_topn(row, topn)\n",
    "    top_related_anime_ixs_set = set([ix for ix, weight in top_edges])\n",
    "\n",
    "    top_magnitude = 0 if len(top_edges) == 0 else top_edges[0][1]\n",
    "    if top_magnitude == 0:\n",
    "        continue\n",
    "    related_for_anime0 = related_by_anime_ix[anime_0_ix]\n",
    "\n",
    "    for related_anime_ix, related_weight in related_for_anime0.items():\n",
    "        if related_anime_ix in top_related_anime_ixs_set:\n",
    "            continue\n",
    "        top_edges.append((related_anime_ix, 0.))\n",
    "\n",
    "    for anime_1_ix, base_weight in top_edges:\n",
    "        extra_weight = related_for_anime0[anime_1_ix]\n",
    "        # This may need to be tuned\n",
    "        weight = base_weight + extra_weight * top_magnitude * 1.\n",
    "        graph.add_edge(anime_0_ix, anime_1_ix, weight=weight)\n",
    "\n",
    "print(\"Edges:\", graph.number_of_edges())"
   ]
  },
  {
   "cell_type": "code",
   "execution_count": 139,
   "metadata": {},
   "outputs": [
    {
     "name": "stderr",
     "output_type": "stream",
     "text": [
      "/opt/conda/lib/python3.9/site-packages/networkx/linalg/graphmatrix.py:187: FutureWarning: adjacency_matrix will return a scipy.sparse array instead of a matrix in Networkx 3.0.\n",
      "  return adjacency_matrix(G, nodelist, dtype, weight)\n"
     ]
    }
   ],
   "source": [
    "import csrgraph as cg\n",
    "import nodevectors\n",
    "\n",
    "cgraph = cg.csrgraph(graph)"
   ]
  },
  {
   "cell_type": "code",
   "execution_count": 140,
   "metadata": {},
   "outputs": [
    {
     "name": "stderr",
     "output_type": "stream",
     "text": [
      "Loss: 0.0036\t:  13%|█▎        | 46/350 [01:41<11:08,  2.20s/it]"
     ]
    },
    {
     "name": "stdout",
     "output_type": "stream",
     "text": [
      "Converged! Loss: 0.0036\n"
     ]
    },
    {
     "name": "stderr",
     "output_type": "stream",
     "text": [
      "\n"
     ]
    }
   ],
   "source": [
    "dimensions = 10\n",
    "order = 2\n",
    "algo = \"ggvec\"\n",
    "\n",
    "embedding_model = None\n",
    "if algo == \"ggvec\":\n",
    "    embedding_model = nodevectors.GGVec(n_components=dimensions, learning_rate=0.01, negative_ratio=0.6, verbose=True, order=order)\n",
    "elif algo == \"node2vec\":\n",
    "    embedding_model = nodevectors.Node2Vec(walklen=8, epochs=50, return_weight=2., neighbor_weight=1., n_components=dimensions, threads=14)\n",
    "elif algo == \"ProNE\":\n",
    "    embedding_model = nodevectors.ProNE(n_components=dimensions)\n",
    "\n",
    "embeddings = embedding_model.fit_transform(cgraph)"
   ]
  },
  {
   "cell_type": "code",
   "execution_count": 142,
   "metadata": {},
   "outputs": [
    {
     "name": "stdout",
     "output_type": "stream",
     "text": [
      "key length: 10097; weight length: 10097; anime_count: 10097\n"
     ]
    },
    {
     "data": {
      "text/plain": [
       "'./work/data/embedding_ggvec_full_posonly_wextra_top40_10d_order2.w2v'"
      ]
     },
     "execution_count": 142,
     "metadata": {},
     "output_type": "execute_result"
    }
   ],
   "source": [
    "keys = [int(n) for n in cgraph.nodes()]\n",
    "\n",
    "print(f\"key length: {len(keys)}; weight length: {len(embeddings)}; anime_count: {len(all_animes)}\")\n",
    "\n",
    "fname = f\"./work/data/embedding_{algo}_full_posonly_wextra_top{topn}_{dimensions}d_order{order}.w2v\"\n",
    "with open(fname, 'wt') as f:\n",
    "    tab = ' '\n",
    "    nl = '\\n'\n",
    "    f.write(f\"{len(keys)}{tab}{dimensions}{nl}\")\n",
    "    for key, embedding in zip(keys, embeddings):\n",
    "        f.write(f\"{key}{tab}{tab.join(map(str, embedding))}{nl}\")\n",
    "fname"
   ]
  }
 ],
 "metadata": {
  "kernelspec": {
   "display_name": "Python 3 (ipykernel)",
   "language": "python",
   "name": "python3"
  }
 },
 "nbformat": 4,
 "nbformat_minor": 4
}
